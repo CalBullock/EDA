{
 "cells": [
  {
   "cell_type": "markdown",
   "metadata": {},
   "source": [
    "Project description\n",
    "\n",
    "You work for the online store Ice, which sells video games all over the world. User and expert reviews, genres, platforms (e.g. Xbox or PlayStation), and historical data on game sales are available from open sources. You need to identify patterns that determine whether a game succeeds or not. This will allow you to spot potential big winners and plan advertising campaigns.\n",
    "In front of you is data going back to 2016. Let’s imagine that it’s December 2016 and you’re planning a campaign for 2017.\n",
    "(The important thing is to get experience working with data. It doesn't really matter whether you're forecasting 2017 sales based on data from 2016 or 2027 sales based on data from 2026.)\n",
    "The dataset contains the abbreviation ESRB. The Entertainment Software Rating Board evaluates a game's content and assigns an age rating such as Teen or Mature."
   ]
  },
  {
   "cell_type": "code",
   "execution_count": 2,
   "metadata": {},
   "outputs": [],
   "source": [
    "from scipy import stats as st\n",
    "import numpy as np\n",
    "import pandas as pd\n",
    "import matplotlib.pyplot as plt"
   ]
  },
  {
   "cell_type": "markdown",
   "metadata": {},
   "source": [
    "# Read CSV"
   ]
  },
  {
   "cell_type": "code",
   "execution_count": 3,
   "metadata": {},
   "outputs": [],
   "source": [
    "try:\n",
    "    df=pd.read_csv('games.csv')\n",
    "except:\n",
    "    df=pd.read_csv('/datasets/games.csv')"
   ]
  },
  {
   "cell_type": "code",
   "execution_count": 4,
   "metadata": {
    "scrolled": true
   },
   "outputs": [
    {
     "data": {
      "text/html": [
       "<div>\n",
       "<style scoped>\n",
       "    .dataframe tbody tr th:only-of-type {\n",
       "        vertical-align: middle;\n",
       "    }\n",
       "\n",
       "    .dataframe tbody tr th {\n",
       "        vertical-align: top;\n",
       "    }\n",
       "\n",
       "    .dataframe thead th {\n",
       "        text-align: right;\n",
       "    }\n",
       "</style>\n",
       "<table border=\"1\" class=\"dataframe\">\n",
       "  <thead>\n",
       "    <tr style=\"text-align: right;\">\n",
       "      <th></th>\n",
       "      <th>Name</th>\n",
       "      <th>Platform</th>\n",
       "      <th>Year_of_Release</th>\n",
       "      <th>Genre</th>\n",
       "      <th>NA_sales</th>\n",
       "      <th>EU_sales</th>\n",
       "      <th>JP_sales</th>\n",
       "      <th>Other_sales</th>\n",
       "      <th>Critic_Score</th>\n",
       "      <th>User_Score</th>\n",
       "      <th>Rating</th>\n",
       "    </tr>\n",
       "  </thead>\n",
       "  <tbody>\n",
       "    <tr>\n",
       "      <th>0</th>\n",
       "      <td>Wii Sports</td>\n",
       "      <td>Wii</td>\n",
       "      <td>2006.0</td>\n",
       "      <td>Sports</td>\n",
       "      <td>41.36</td>\n",
       "      <td>28.96</td>\n",
       "      <td>3.77</td>\n",
       "      <td>8.45</td>\n",
       "      <td>76.0</td>\n",
       "      <td>8</td>\n",
       "      <td>E</td>\n",
       "    </tr>\n",
       "    <tr>\n",
       "      <th>1</th>\n",
       "      <td>Super Mario Bros.</td>\n",
       "      <td>NES</td>\n",
       "      <td>1985.0</td>\n",
       "      <td>Platform</td>\n",
       "      <td>29.08</td>\n",
       "      <td>3.58</td>\n",
       "      <td>6.81</td>\n",
       "      <td>0.77</td>\n",
       "      <td>NaN</td>\n",
       "      <td>NaN</td>\n",
       "      <td>NaN</td>\n",
       "    </tr>\n",
       "    <tr>\n",
       "      <th>2</th>\n",
       "      <td>Mario Kart Wii</td>\n",
       "      <td>Wii</td>\n",
       "      <td>2008.0</td>\n",
       "      <td>Racing</td>\n",
       "      <td>15.68</td>\n",
       "      <td>12.76</td>\n",
       "      <td>3.79</td>\n",
       "      <td>3.29</td>\n",
       "      <td>82.0</td>\n",
       "      <td>8.3</td>\n",
       "      <td>E</td>\n",
       "    </tr>\n",
       "    <tr>\n",
       "      <th>3</th>\n",
       "      <td>Wii Sports Resort</td>\n",
       "      <td>Wii</td>\n",
       "      <td>2009.0</td>\n",
       "      <td>Sports</td>\n",
       "      <td>15.61</td>\n",
       "      <td>10.93</td>\n",
       "      <td>3.28</td>\n",
       "      <td>2.95</td>\n",
       "      <td>80.0</td>\n",
       "      <td>8</td>\n",
       "      <td>E</td>\n",
       "    </tr>\n",
       "    <tr>\n",
       "      <th>4</th>\n",
       "      <td>Pokemon Red/Pokemon Blue</td>\n",
       "      <td>GB</td>\n",
       "      <td>1996.0</td>\n",
       "      <td>Role-Playing</td>\n",
       "      <td>11.27</td>\n",
       "      <td>8.89</td>\n",
       "      <td>10.22</td>\n",
       "      <td>1.00</td>\n",
       "      <td>NaN</td>\n",
       "      <td>NaN</td>\n",
       "      <td>NaN</td>\n",
       "    </tr>\n",
       "  </tbody>\n",
       "</table>\n",
       "</div>"
      ],
      "text/plain": [
       "                       Name Platform  Year_of_Release         Genre  NA_sales  \\\n",
       "0                Wii Sports      Wii           2006.0        Sports     41.36   \n",
       "1         Super Mario Bros.      NES           1985.0      Platform     29.08   \n",
       "2            Mario Kart Wii      Wii           2008.0        Racing     15.68   \n",
       "3         Wii Sports Resort      Wii           2009.0        Sports     15.61   \n",
       "4  Pokemon Red/Pokemon Blue       GB           1996.0  Role-Playing     11.27   \n",
       "\n",
       "   EU_sales  JP_sales  Other_sales  Critic_Score User_Score Rating  \n",
       "0     28.96      3.77         8.45          76.0          8      E  \n",
       "1      3.58      6.81         0.77           NaN        NaN    NaN  \n",
       "2     12.76      3.79         3.29          82.0        8.3      E  \n",
       "3     10.93      3.28         2.95          80.0          8      E  \n",
       "4      8.89     10.22         1.00           NaN        NaN    NaN  "
      ]
     },
     "execution_count": 4,
     "metadata": {},
     "output_type": "execute_result"
    }
   ],
   "source": [
    "df.head()"
   ]
  },
  {
   "cell_type": "code",
   "execution_count": 5,
   "metadata": {},
   "outputs": [],
   "source": [
    "#Convert column names to lowercase\n",
    "df.columns=df.columns.str.lower()"
   ]
  },
  {
   "cell_type": "code",
   "execution_count": 6,
   "metadata": {},
   "outputs": [
    {
     "name": "stdout",
     "output_type": "stream",
     "text": [
      "<class 'pandas.core.frame.DataFrame'>\n",
      "RangeIndex: 16715 entries, 0 to 16714\n",
      "Data columns (total 11 columns):\n",
      " #   Column           Non-Null Count  Dtype  \n",
      "---  ------           --------------  -----  \n",
      " 0   name             16713 non-null  object \n",
      " 1   platform         16715 non-null  object \n",
      " 2   year_of_release  16446 non-null  float64\n",
      " 3   genre            16713 non-null  object \n",
      " 4   na_sales         16715 non-null  float64\n",
      " 5   eu_sales         16715 non-null  float64\n",
      " 6   jp_sales         16715 non-null  float64\n",
      " 7   other_sales      16715 non-null  float64\n",
      " 8   critic_score     8137 non-null   float64\n",
      " 9   user_score       10014 non-null  object \n",
      " 10  rating           9949 non-null   object \n",
      "dtypes: float64(6), object(5)\n",
      "memory usage: 1.4+ MB\n"
     ]
    }
   ],
   "source": [
    "df.info()"
   ]
  },
  {
   "cell_type": "markdown",
   "metadata": {},
   "source": [
    "# Preprocessing"
   ]
  },
  {
   "cell_type": "code",
   "execution_count": 7,
   "metadata": {},
   "outputs": [],
   "source": [
    "#Drop na values in year and name\n",
    "df.dropna(subset=['year_of_release', 'name'], inplace=True)"
   ]
  },
  {
   "cell_type": "code",
   "execution_count": 8,
   "metadata": {},
   "outputs": [
    {
     "name": "stdout",
     "output_type": "stream",
     "text": [
      "<class 'pandas.core.frame.DataFrame'>\n",
      "Int64Index: 16444 entries, 0 to 16714\n",
      "Data columns (total 11 columns):\n",
      " #   Column           Non-Null Count  Dtype  \n",
      "---  ------           --------------  -----  \n",
      " 0   name             16444 non-null  object \n",
      " 1   platform         16444 non-null  object \n",
      " 2   year_of_release  16444 non-null  float64\n",
      " 3   genre            16444 non-null  object \n",
      " 4   na_sales         16444 non-null  float64\n",
      " 5   eu_sales         16444 non-null  float64\n",
      " 6   jp_sales         16444 non-null  float64\n",
      " 7   other_sales      16444 non-null  float64\n",
      " 8   critic_score     7983 non-null   float64\n",
      " 9   user_score       9839 non-null   object \n",
      " 10  rating           9768 non-null   object \n",
      "dtypes: float64(6), object(5)\n",
      "memory usage: 1.5+ MB\n"
     ]
    }
   ],
   "source": [
    "df.info()"
   ]
  },
  {
   "cell_type": "code",
   "execution_count": 9,
   "metadata": {},
   "outputs": [],
   "source": [
    "#Convert year to int\n",
    "df.year_of_release=df.year_of_release.astype('int32')"
   ]
  },
  {
   "cell_type": "code",
   "execution_count": 10,
   "metadata": {},
   "outputs": [
    {
     "data": {
      "text/plain": [
       "tbd    2376\n",
       "7.8     322\n",
       "8       285\n",
       "8.2     276\n",
       "8.3     252\n",
       "       ... \n",
       "1.3       2\n",
       "0.6       2\n",
       "2.3       2\n",
       "9.7       1\n",
       "0         1\n",
       "Name: user_score, Length: 96, dtype: int64"
      ]
     },
     "execution_count": 10,
     "metadata": {},
     "output_type": "execute_result"
    }
   ],
   "source": [
    "#Check values for user score, as it is an object\n",
    "df.user_score.value_counts()"
   ]
  },
  {
   "cell_type": "code",
   "execution_count": 11,
   "metadata": {},
   "outputs": [],
   "source": [
    "#Convert tbd to nan values, so can be converted to float\n",
    "df.user_score=df.user_score.replace('tbd', np.nan)"
   ]
  },
  {
   "cell_type": "code",
   "execution_count": 12,
   "metadata": {},
   "outputs": [
    {
     "data": {
      "text/plain": [
       "7.8    322\n",
       "8      285\n",
       "8.2    276\n",
       "8.3    252\n",
       "7.5    249\n",
       "      ... \n",
       "2.3      2\n",
       "1.9      2\n",
       "0.2      2\n",
       "9.7      1\n",
       "0        1\n",
       "Name: user_score, Length: 95, dtype: int64"
      ]
     },
     "execution_count": 12,
     "metadata": {},
     "output_type": "execute_result"
    }
   ],
   "source": [
    "#Check if above has worked\n",
    "df.user_score.value_counts()"
   ]
  },
  {
   "cell_type": "code",
   "execution_count": 13,
   "metadata": {},
   "outputs": [],
   "source": [
    "#Convert user score to float\n",
    "df.user_score=df.user_score.astype('float64')"
   ]
  },
  {
   "cell_type": "code",
   "execution_count": 14,
   "metadata": {},
   "outputs": [],
   "source": [
    "#Add sales columns and create new column\n",
    "df['sales_total']=df['eu_sales']+df['na_sales']+df['jp_sales']+df['other_sales']"
   ]
  },
  {
   "cell_type": "markdown",
   "metadata": {},
   "source": [
    "## Conclusion"
   ]
  },
  {
   "cell_type": "markdown",
   "metadata": {},
   "source": [
    "Converted column names to lowercase.<br>\n",
    "Year of release converted to integer.<br>\n",
    "Replace tbf to nan for conversion to float.<br>\n",
    "Total sales created."
   ]
  },
  {
   "cell_type": "markdown",
   "metadata": {},
   "source": [
    "# Graphs and Analysis"
   ]
  },
  {
   "cell_type": "code",
   "execution_count": 15,
   "metadata": {},
   "outputs": [
    {
     "data": {
      "image/png": "[encoded data removed]",
      "text/plain": [
       "<Figure size 432x288 with 1 Axes>"
      ]
     },
     "metadata": {
      "needs_background": "light"
     },
     "output_type": "display_data"
    }
   ],
   "source": [
    "#Plot for count of unique titles per year\n",
    "df.groupby('year_of_release').name.count().plot()\n",
    "plt.title('Games released')\n",
    "plt.xlabel('Year')\n",
    "plt.ylabel('Frequency');"
   ]
  },
  {
   "cell_type": "markdown",
   "metadata": {},
   "source": [
    "Games produced per year increased significantly around the year 2000, with the years prior having little releases.<br>\n",
    "Peak releases around 2008, and a decline after."
   ]
  },
  {
   "cell_type": "code",
   "execution_count": 16,
   "metadata": {},
   "outputs": [],
   "source": [
    "#New variable created for sales total grouped by year of release and platform, unstacked for readability\n",
    "platform_sales=df.groupby(['year_of_release', 'platform']).sales_total.sum().unstack(1)"
   ]
  },
  {
   "cell_type": "code",
   "execution_count": 17,
   "metadata": {},
   "outputs": [
    {
     "data": {
      "image/png": "[encoded data removed]",
      "text/plain": [
       "<Figure size 432x288 with 1 Axes>"
      ]
     },
     "metadata": {
      "needs_background": "light"
     },
     "output_type": "display_data"
    }
   ],
   "source": [
    "#Graph of above variable\n",
    "platform_sales.plot()\n",
    "plt.title('Games released per platform')\n",
    "plt.xlabel('Year')\n",
    "plt.ylabel('Frequency');"
   ]
  },
  {
   "cell_type": "markdown",
   "metadata": {},
   "source": [
    "Many data points, graph hard to read."
   ]
  },
  {
   "cell_type": "code",
   "execution_count": 18,
   "metadata": {},
   "outputs": [],
   "source": [
    "#Create a varaible showing only the 10 highest sales platforms\n",
    "top_platforms=platform_sales.sum().sort_values().index[-10:]"
   ]
  },
  {
   "cell_type": "code",
   "execution_count": 19,
   "metadata": {},
   "outputs": [
    {
     "data": {
      "text/plain": [
       "Index(['3DS', 'PSP', 'GBA', 'PS4', 'PS', 'DS', 'Wii', 'PS3', 'X360', 'PS2'], dtype='object', name='platform')"
      ]
     },
     "execution_count": 19,
     "metadata": {},
     "output_type": "execute_result"
    }
   ],
   "source": [
    "top_platforms"
   ]
  },
  {
   "cell_type": "code",
   "execution_count": 20,
   "metadata": {},
   "outputs": [
    {
     "data": {
      "image/png": "[encoded data removed]",
      "text/plain": [
       "<Figure size 432x288 with 1 Axes>"
      ]
     },
     "metadata": {
      "needs_background": "light"
     },
     "output_type": "display_data"
    }
   ],
   "source": [
    "#Graph of the above variable\n",
    "platform_sales[top_platforms].plot()\n",
    "plt.title('Top Platforms Games Released')\n",
    "plt.xlabel('Year')\n",
    "plt.ylabel('Frequency');"
   ]
  },
  {
   "cell_type": "code",
   "execution_count": 21,
   "metadata": {},
   "outputs": [
    {
     "data": {
      "text/plain": [
       "platform\n",
       "3DS      6\n",
       "PSP     12\n",
       "GBA      8\n",
       "PS4      4\n",
       "PS      10\n",
       "DS      11\n",
       "Wii     11\n",
       "PS3     11\n",
       "X360    12\n",
       "PS2     12\n",
       "dtype: int64"
      ]
     },
     "execution_count": 21,
     "metadata": {},
     "output_type": "execute_result"
    }
   ],
   "source": [
    "#Sum of cells with sale data\n",
    "(~platform_sales[top_platforms].isna()).sum()"
   ]
  },
  {
   "cell_type": "code",
   "execution_count": 22,
   "metadata": {},
   "outputs": [
    {
     "data": {
      "text/plain": [
       "2016"
      ]
     },
     "execution_count": 22,
     "metadata": {},
     "output_type": "execute_result"
    }
   ],
   "source": [
    "#Check max year on dataframe\n",
    "df.year_of_release.max()"
   ]
  },
  {
   "cell_type": "markdown",
   "metadata": {},
   "source": [
    "The top platforms have a maximum of 12 years before titles stop being sold."
   ]
  },
  {
   "cell_type": "code",
   "execution_count": 23,
   "metadata": {},
   "outputs": [],
   "source": [
    "#Only values from 2014 to be used\n",
    "df=df[df['year_of_release']>2014]"
   ]
  },
  {
   "cell_type": "code",
   "execution_count": 24,
   "metadata": {},
   "outputs": [
    {
     "data": {
      "text/html": [
       "<div>\n",
       "<style scoped>\n",
       "    .dataframe tbody tr th:only-of-type {\n",
       "        vertical-align: middle;\n",
       "    }\n",
       "\n",
       "    .dataframe tbody tr th {\n",
       "        vertical-align: top;\n",
       "    }\n",
       "\n",
       "    .dataframe thead th {\n",
       "        text-align: right;\n",
       "    }\n",
       "</style>\n",
       "<table border=\"1\" class=\"dataframe\">\n",
       "  <thead>\n",
       "    <tr style=\"text-align: right;\">\n",
       "      <th>platform</th>\n",
       "      <th>3DS</th>\n",
       "      <th>PC</th>\n",
       "      <th>PS3</th>\n",
       "      <th>PS4</th>\n",
       "      <th>PSP</th>\n",
       "      <th>PSV</th>\n",
       "      <th>Wii</th>\n",
       "      <th>WiiU</th>\n",
       "      <th>X360</th>\n",
       "      <th>XOne</th>\n",
       "    </tr>\n",
       "    <tr>\n",
       "      <th>year_of_release</th>\n",
       "      <th></th>\n",
       "      <th></th>\n",
       "      <th></th>\n",
       "      <th></th>\n",
       "      <th></th>\n",
       "      <th></th>\n",
       "      <th></th>\n",
       "      <th></th>\n",
       "      <th></th>\n",
       "      <th></th>\n",
       "    </tr>\n",
       "  </thead>\n",
       "  <tbody>\n",
       "    <tr>\n",
       "      <th>2015</th>\n",
       "      <td>27.78</td>\n",
       "      <td>8.52</td>\n",
       "      <td>16.82</td>\n",
       "      <td>118.90</td>\n",
       "      <td>0.12</td>\n",
       "      <td>6.25</td>\n",
       "      <td>1.14</td>\n",
       "      <td>16.35</td>\n",
       "      <td>11.96</td>\n",
       "      <td>60.14</td>\n",
       "    </tr>\n",
       "    <tr>\n",
       "      <th>2016</th>\n",
       "      <td>15.14</td>\n",
       "      <td>5.25</td>\n",
       "      <td>3.60</td>\n",
       "      <td>69.25</td>\n",
       "      <td>NaN</td>\n",
       "      <td>4.25</td>\n",
       "      <td>0.18</td>\n",
       "      <td>4.60</td>\n",
       "      <td>1.52</td>\n",
       "      <td>26.15</td>\n",
       "    </tr>\n",
       "  </tbody>\n",
       "</table>\n",
       "</div>"
      ],
      "text/plain": [
       "platform           3DS    PC    PS3     PS4   PSP   PSV   Wii   WiiU   X360  \\\n",
       "year_of_release                                                               \n",
       "2015             27.78  8.52  16.82  118.90  0.12  6.25  1.14  16.35  11.96   \n",
       "2016             15.14  5.25   3.60   69.25   NaN  4.25  0.18   4.60   1.52   \n",
       "\n",
       "platform          XOne  \n",
       "year_of_release         \n",
       "2015             60.14  \n",
       "2016             26.15  "
      ]
     },
     "execution_count": 24,
     "metadata": {},
     "output_type": "execute_result"
    }
   ],
   "source": [
    "#Grouped dataframe to show sales total of each platform by year, unstacked for readability\n",
    "df.groupby(['year_of_release', 'platform']).sales_total.sum().unstack(1)"
   ]
  },
  {
   "cell_type": "code",
   "execution_count": 25,
   "metadata": {},
   "outputs": [
    {
     "data": {
      "text/html": [
       "<div>\n",
       "<style scoped>\n",
       "    .dataframe tbody tr th:only-of-type {\n",
       "        vertical-align: middle;\n",
       "    }\n",
       "\n",
       "    .dataframe tbody tr th {\n",
       "        vertical-align: top;\n",
       "    }\n",
       "\n",
       "    .dataframe thead th {\n",
       "        text-align: right;\n",
       "    }\n",
       "</style>\n",
       "<table border=\"1\" class=\"dataframe\">\n",
       "  <thead>\n",
       "    <tr style=\"text-align: right;\">\n",
       "      <th>platform</th>\n",
       "      <th>3DS</th>\n",
       "      <th>PC</th>\n",
       "      <th>PS3</th>\n",
       "      <th>PS4</th>\n",
       "      <th>PSP</th>\n",
       "      <th>PSV</th>\n",
       "      <th>Wii</th>\n",
       "      <th>WiiU</th>\n",
       "      <th>X360</th>\n",
       "      <th>XOne</th>\n",
       "    </tr>\n",
       "    <tr>\n",
       "      <th>year_of_release</th>\n",
       "      <th></th>\n",
       "      <th></th>\n",
       "      <th></th>\n",
       "      <th></th>\n",
       "      <th></th>\n",
       "      <th></th>\n",
       "      <th></th>\n",
       "      <th></th>\n",
       "      <th></th>\n",
       "      <th></th>\n",
       "    </tr>\n",
       "  </thead>\n",
       "  <tbody>\n",
       "    <tr>\n",
       "      <th>2015</th>\n",
       "      <td>NaN</td>\n",
       "      <td>NaN</td>\n",
       "      <td>NaN</td>\n",
       "      <td>NaN</td>\n",
       "      <td>NaN</td>\n",
       "      <td>NaN</td>\n",
       "      <td>NaN</td>\n",
       "      <td>NaN</td>\n",
       "      <td>NaN</td>\n",
       "      <td>NaN</td>\n",
       "    </tr>\n",
       "    <tr>\n",
       "      <th>2016</th>\n",
       "      <td>-12.64</td>\n",
       "      <td>-3.27</td>\n",
       "      <td>-13.22</td>\n",
       "      <td>-49.65</td>\n",
       "      <td>NaN</td>\n",
       "      <td>-2.0</td>\n",
       "      <td>-0.96</td>\n",
       "      <td>-11.75</td>\n",
       "      <td>-10.44</td>\n",
       "      <td>-33.99</td>\n",
       "    </tr>\n",
       "  </tbody>\n",
       "</table>\n",
       "</div>"
      ],
      "text/plain": [
       "platform           3DS    PC    PS3    PS4  PSP  PSV   Wii   WiiU   X360  \\\n",
       "year_of_release                                                            \n",
       "2015               NaN   NaN    NaN    NaN  NaN  NaN   NaN    NaN    NaN   \n",
       "2016            -12.64 -3.27 -13.22 -49.65  NaN -2.0 -0.96 -11.75 -10.44   \n",
       "\n",
       "platform          XOne  \n",
       "year_of_release         \n",
       "2015               NaN  \n",
       "2016            -33.99  "
      ]
     },
     "execution_count": 25,
     "metadata": {},
     "output_type": "execute_result"
    }
   ],
   "source": [
    "#Calculate the differences from previous year on above dataframe\n",
    "df.groupby(['year_of_release', 'platform']).sales_total.sum().unstack(1).diff(axis=0)"
   ]
  },
  {
   "cell_type": "markdown",
   "metadata": {},
   "source": [
    "The leading platforms for sales in 2016 are PS4 and XOne.<br>\n",
    "\n",
    "The platforms with the least shrink of sales were the PC and the PSV.<br>\n",
    "The platforms with the largest shrink of sales were the PS4 and the XOne."
   ]
  },
  {
   "cell_type": "code",
   "execution_count": 26,
   "metadata": {},
   "outputs": [],
   "source": [
    "import sys\n",
    "import warnings\n",
    "if not sys.warnoptions:\n",
    "       warnings.simplefilter(\"ignore\")"
   ]
  },
  {
   "cell_type": "code",
   "execution_count": 27,
   "metadata": {
    "scrolled": false
   },
   "outputs": [
    {
     "data": {
      "image/png": "[encoded data removed]",
      "text/plain": [
       "<Figure size 648x648 with 1 Axes>"
      ]
     },
     "metadata": {
      "needs_background": "light"
     },
     "output_type": "display_data"
    }
   ],
   "source": [
    "#Boxplot for platform and sales total, log scale for readability\n",
    "df.boxplot(by='platform', column='sales_total', figsize=(9,9))\n",
    "plt.title('Sales by Platform')\n",
    "plt.xlabel('Platform')\n",
    "plt.ylabel('Log Sales')\n",
    "plt.yscale('log');"
   ]
  },
  {
   "cell_type": "markdown",
   "metadata": {},
   "source": [
    "The WiiU has the highest median sales, and the PC has the lowest median sales.<br>\n",
    "\n",
    "The PS4 and XOne have the largest interquartile ranges.<br>\n",
    "\n",
    "The PS4 also has the most outliers in sales."
   ]
  },
  {
   "cell_type": "code",
   "execution_count": 28,
   "metadata": {},
   "outputs": [],
   "source": [
    "#Create dataframe for PS4 data only\n",
    "ps4sales=df[df['platform']=='PS4']"
   ]
  },
  {
   "cell_type": "code",
   "execution_count": 29,
   "metadata": {},
   "outputs": [
    {
     "data": {
      "image/png": "[encoded data removed]",
      "text/plain": [
       "<Figure size 432x288 with 1 Axes>"
      ]
     },
     "metadata": {
      "needs_background": "light"
     },
     "output_type": "display_data"
    }
   ],
   "source": [
    "#Scatter plot for PS4 User Score and Sales Total\n",
    "plt.scatter(ps4sales['user_score'], ps4sales['sales_total'], alpha=(0.4))\n",
    "plt.yscale('log')\n",
    "plt.xlabel('User Score')\n",
    "plt.ylabel('Log Sales');"
   ]
  },
  {
   "cell_type": "markdown",
   "metadata": {},
   "source": [
    "User score seems to have little impact on the total sales, as high user scores can mean both high sales and low sales, low user score can also mean high sales and low sales."
   ]
  },
  {
   "cell_type": "code",
   "execution_count": 30,
   "metadata": {},
   "outputs": [
    {
     "data": {
      "image/png": "[encoded data removed]",
      "text/plain": [
       "<Figure size 432x288 with 1 Axes>"
      ]
     },
     "metadata": {
      "needs_background": "light"
     },
     "output_type": "display_data"
    }
   ],
   "source": [
    "#Scatter plot for PS4 Critic Score and Sales Total\n",
    "plt.scatter(ps4sales['critic_score'], ps4sales['sales_total'], alpha=(0.4))\n",
    "plt.yscale('log')\n",
    "plt.xlabel('Critic Score')\n",
    "plt.ylabel('Log Sales');"
   ]
  },
  {
   "cell_type": "markdown",
   "metadata": {},
   "source": [
    "Critic score has more of an impact on the total sales, there is a slight trend on higher critic score and total sales."
   ]
  },
  {
   "cell_type": "code",
   "execution_count": 31,
   "metadata": {},
   "outputs": [
    {
     "data": {
      "text/html": [
       "<div>\n",
       "<style scoped>\n",
       "    .dataframe tbody tr th:only-of-type {\n",
       "        vertical-align: middle;\n",
       "    }\n",
       "\n",
       "    .dataframe tbody tr th {\n",
       "        vertical-align: top;\n",
       "    }\n",
       "\n",
       "    .dataframe thead th {\n",
       "        text-align: right;\n",
       "    }\n",
       "</style>\n",
       "<table border=\"1\" class=\"dataframe\">\n",
       "  <thead>\n",
       "    <tr style=\"text-align: right;\">\n",
       "      <th></th>\n",
       "      <th>year_of_release</th>\n",
       "      <th>na_sales</th>\n",
       "      <th>eu_sales</th>\n",
       "      <th>jp_sales</th>\n",
       "      <th>other_sales</th>\n",
       "      <th>critic_score</th>\n",
       "      <th>user_score</th>\n",
       "      <th>sales_total</th>\n",
       "    </tr>\n",
       "  </thead>\n",
       "  <tbody>\n",
       "    <tr>\n",
       "      <th>year_of_release</th>\n",
       "      <td>1.000000</td>\n",
       "      <td>-0.164633</td>\n",
       "      <td>-0.125109</td>\n",
       "      <td>-0.079977</td>\n",
       "      <td>-0.155549</td>\n",
       "      <td>-0.018455</td>\n",
       "      <td>0.016125</td>\n",
       "      <td>-0.152557</td>\n",
       "    </tr>\n",
       "    <tr>\n",
       "      <th>na_sales</th>\n",
       "      <td>-0.164633</td>\n",
       "      <td>1.000000</td>\n",
       "      <td>0.747461</td>\n",
       "      <td>0.446473</td>\n",
       "      <td>0.936805</td>\n",
       "      <td>0.406409</td>\n",
       "      <td>-0.026921</td>\n",
       "      <td>0.917233</td>\n",
       "    </tr>\n",
       "    <tr>\n",
       "      <th>eu_sales</th>\n",
       "      <td>-0.125109</td>\n",
       "      <td>0.747461</td>\n",
       "      <td>1.000000</td>\n",
       "      <td>0.417355</td>\n",
       "      <td>0.932506</td>\n",
       "      <td>0.310625</td>\n",
       "      <td>-0.086974</td>\n",
       "      <td>0.948745</td>\n",
       "    </tr>\n",
       "    <tr>\n",
       "      <th>jp_sales</th>\n",
       "      <td>-0.079977</td>\n",
       "      <td>0.446473</td>\n",
       "      <td>0.417355</td>\n",
       "      <td>1.000000</td>\n",
       "      <td>0.462652</td>\n",
       "      <td>0.366784</td>\n",
       "      <td>0.185471</td>\n",
       "      <td>0.496600</td>\n",
       "    </tr>\n",
       "    <tr>\n",
       "      <th>other_sales</th>\n",
       "      <td>-0.155549</td>\n",
       "      <td>0.936805</td>\n",
       "      <td>0.932506</td>\n",
       "      <td>0.462652</td>\n",
       "      <td>1.000000</td>\n",
       "      <td>0.394959</td>\n",
       "      <td>-0.065671</td>\n",
       "      <td>0.997817</td>\n",
       "    </tr>\n",
       "    <tr>\n",
       "      <th>critic_score</th>\n",
       "      <td>-0.018455</td>\n",
       "      <td>0.406409</td>\n",
       "      <td>0.310625</td>\n",
       "      <td>0.366784</td>\n",
       "      <td>0.394959</td>\n",
       "      <td>1.000000</td>\n",
       "      <td>0.533330</td>\n",
       "      <td>0.392849</td>\n",
       "    </tr>\n",
       "    <tr>\n",
       "      <th>user_score</th>\n",
       "      <td>0.016125</td>\n",
       "      <td>-0.026921</td>\n",
       "      <td>-0.086974</td>\n",
       "      <td>0.185471</td>\n",
       "      <td>-0.065671</td>\n",
       "      <td>0.533330</td>\n",
       "      <td>1.000000</td>\n",
       "      <td>-0.059738</td>\n",
       "    </tr>\n",
       "    <tr>\n",
       "      <th>sales_total</th>\n",
       "      <td>-0.152557</td>\n",
       "      <td>0.917233</td>\n",
       "      <td>0.948745</td>\n",
       "      <td>0.496600</td>\n",
       "      <td>0.997817</td>\n",
       "      <td>0.392849</td>\n",
       "      <td>-0.059738</td>\n",
       "      <td>1.000000</td>\n",
       "    </tr>\n",
       "  </tbody>\n",
       "</table>\n",
       "</div>"
      ],
      "text/plain": [
       "                 year_of_release  na_sales  eu_sales  jp_sales  other_sales  \\\n",
       "year_of_release         1.000000 -0.164633 -0.125109 -0.079977    -0.155549   \n",
       "na_sales               -0.164633  1.000000  0.747461  0.446473     0.936805   \n",
       "eu_sales               -0.125109  0.747461  1.000000  0.417355     0.932506   \n",
       "jp_sales               -0.079977  0.446473  0.417355  1.000000     0.462652   \n",
       "other_sales            -0.155549  0.936805  0.932506  0.462652     1.000000   \n",
       "critic_score           -0.018455  0.406409  0.310625  0.366784     0.394959   \n",
       "user_score              0.016125 -0.026921 -0.086974  0.185471    -0.065671   \n",
       "sales_total            -0.152557  0.917233  0.948745  0.496600     0.997817   \n",
       "\n",
       "                 critic_score  user_score  sales_total  \n",
       "year_of_release     -0.018455    0.016125    -0.152557  \n",
       "na_sales             0.406409   -0.026921     0.917233  \n",
       "eu_sales             0.310625   -0.086974     0.948745  \n",
       "jp_sales             0.366784    0.185471     0.496600  \n",
       "other_sales          0.394959   -0.065671     0.997817  \n",
       "critic_score         1.000000    0.533330     0.392849  \n",
       "user_score           0.533330    1.000000    -0.059738  \n",
       "sales_total          0.392849   -0.059738     1.000000  "
      ]
     },
     "execution_count": 31,
     "metadata": {},
     "output_type": "execute_result"
    }
   ],
   "source": [
    "#Correlation data for ps4sales dataframe\n",
    "ps4sales.corr()"
   ]
  },
  {
   "cell_type": "markdown",
   "metadata": {},
   "source": [
    "The correlation for user score and sales is -0.06, there is no correlation between these.<br>\n",
    "The correlation for critic score and sales is 0.39, there is a moderate positive correlation between these variables."
   ]
  },
  {
   "cell_type": "code",
   "execution_count": 32,
   "metadata": {},
   "outputs": [],
   "source": [
    "#New variable for games on at least 2 platforms\n",
    "multi_platform = df.groupby('name'\n",
    "                           ).filter(lambda x: x['platform'].count()> 2.\n",
    "                                   ).groupby(['name','platform']).sales_total.sum().unstack()"
   ]
  },
  {
   "cell_type": "code",
   "execution_count": 33,
   "metadata": {},
   "outputs": [
    {
     "data": {
      "text/html": [
       "<div>\n",
       "<style scoped>\n",
       "    .dataframe tbody tr th:only-of-type {\n",
       "        vertical-align: middle;\n",
       "    }\n",
       "\n",
       "    .dataframe tbody tr th {\n",
       "        vertical-align: top;\n",
       "    }\n",
       "\n",
       "    .dataframe thead th {\n",
       "        text-align: right;\n",
       "    }\n",
       "</style>\n",
       "<table border=\"1\" class=\"dataframe\">\n",
       "  <thead>\n",
       "    <tr style=\"text-align: right;\">\n",
       "      <th>platform</th>\n",
       "      <th>3DS</th>\n",
       "      <th>PC</th>\n",
       "      <th>PS3</th>\n",
       "      <th>PS4</th>\n",
       "      <th>PSV</th>\n",
       "      <th>Wii</th>\n",
       "      <th>WiiU</th>\n",
       "      <th>X360</th>\n",
       "      <th>XOne</th>\n",
       "    </tr>\n",
       "    <tr>\n",
       "      <th>name</th>\n",
       "      <th></th>\n",
       "      <th></th>\n",
       "      <th></th>\n",
       "      <th></th>\n",
       "      <th></th>\n",
       "      <th></th>\n",
       "      <th></th>\n",
       "      <th></th>\n",
       "      <th></th>\n",
       "    </tr>\n",
       "  </thead>\n",
       "  <tbody>\n",
       "    <tr>\n",
       "      <th>Adventure Time: Finn &amp; Jake Investigations</th>\n",
       "      <td>0.09</td>\n",
       "      <td>NaN</td>\n",
       "      <td>0.08</td>\n",
       "      <td>0.10</td>\n",
       "      <td>NaN</td>\n",
       "      <td>NaN</td>\n",
       "      <td>0.05</td>\n",
       "      <td>0.09</td>\n",
       "      <td>0.05</td>\n",
       "    </tr>\n",
       "    <tr>\n",
       "      <th>Aegis of Earth: Protonovus Assault</th>\n",
       "      <td>NaN</td>\n",
       "      <td>NaN</td>\n",
       "      <td>0.02</td>\n",
       "      <td>0.02</td>\n",
       "      <td>0.03</td>\n",
       "      <td>NaN</td>\n",
       "      <td>NaN</td>\n",
       "      <td>NaN</td>\n",
       "      <td>NaN</td>\n",
       "    </tr>\n",
       "    <tr>\n",
       "      <th>Arslan: The Warriors of Legend</th>\n",
       "      <td>NaN</td>\n",
       "      <td>NaN</td>\n",
       "      <td>0.05</td>\n",
       "      <td>0.09</td>\n",
       "      <td>NaN</td>\n",
       "      <td>NaN</td>\n",
       "      <td>NaN</td>\n",
       "      <td>NaN</td>\n",
       "      <td>0.01</td>\n",
       "    </tr>\n",
       "    <tr>\n",
       "      <th>Assassin's Creed Chronicles</th>\n",
       "      <td>NaN</td>\n",
       "      <td>NaN</td>\n",
       "      <td>NaN</td>\n",
       "      <td>0.08</td>\n",
       "      <td>0.07</td>\n",
       "      <td>NaN</td>\n",
       "      <td>NaN</td>\n",
       "      <td>NaN</td>\n",
       "      <td>0.01</td>\n",
       "    </tr>\n",
       "    <tr>\n",
       "      <th>Assassin's Creed Syndicate</th>\n",
       "      <td>NaN</td>\n",
       "      <td>0.22</td>\n",
       "      <td>NaN</td>\n",
       "      <td>3.39</td>\n",
       "      <td>NaN</td>\n",
       "      <td>NaN</td>\n",
       "      <td>NaN</td>\n",
       "      <td>NaN</td>\n",
       "      <td>1.29</td>\n",
       "    </tr>\n",
       "    <tr>\n",
       "      <th>...</th>\n",
       "      <td>...</td>\n",
       "      <td>...</td>\n",
       "      <td>...</td>\n",
       "      <td>...</td>\n",
       "      <td>...</td>\n",
       "      <td>...</td>\n",
       "      <td>...</td>\n",
       "      <td>...</td>\n",
       "      <td>...</td>\n",
       "    </tr>\n",
       "    <tr>\n",
       "      <th>WWE 2K17</th>\n",
       "      <td>NaN</td>\n",
       "      <td>NaN</td>\n",
       "      <td>0.14</td>\n",
       "      <td>0.60</td>\n",
       "      <td>NaN</td>\n",
       "      <td>NaN</td>\n",
       "      <td>NaN</td>\n",
       "      <td>0.10</td>\n",
       "      <td>0.26</td>\n",
       "    </tr>\n",
       "    <tr>\n",
       "      <th>Wasteland 2</th>\n",
       "      <td>NaN</td>\n",
       "      <td>0.10</td>\n",
       "      <td>NaN</td>\n",
       "      <td>0.12</td>\n",
       "      <td>NaN</td>\n",
       "      <td>NaN</td>\n",
       "      <td>NaN</td>\n",
       "      <td>NaN</td>\n",
       "      <td>0.06</td>\n",
       "    </tr>\n",
       "    <tr>\n",
       "      <th>Wolfenstein: The Old Blood</th>\n",
       "      <td>NaN</td>\n",
       "      <td>0.08</td>\n",
       "      <td>NaN</td>\n",
       "      <td>0.43</td>\n",
       "      <td>NaN</td>\n",
       "      <td>NaN</td>\n",
       "      <td>NaN</td>\n",
       "      <td>NaN</td>\n",
       "      <td>0.15</td>\n",
       "    </tr>\n",
       "    <tr>\n",
       "      <th>XCOM 2</th>\n",
       "      <td>NaN</td>\n",
       "      <td>0.23</td>\n",
       "      <td>NaN</td>\n",
       "      <td>0.14</td>\n",
       "      <td>NaN</td>\n",
       "      <td>NaN</td>\n",
       "      <td>NaN</td>\n",
       "      <td>NaN</td>\n",
       "      <td>0.04</td>\n",
       "    </tr>\n",
       "    <tr>\n",
       "      <th>Yoru no Nai Kuni</th>\n",
       "      <td>NaN</td>\n",
       "      <td>NaN</td>\n",
       "      <td>0.05</td>\n",
       "      <td>0.08</td>\n",
       "      <td>0.08</td>\n",
       "      <td>NaN</td>\n",
       "      <td>NaN</td>\n",
       "      <td>NaN</td>\n",
       "      <td>NaN</td>\n",
       "    </tr>\n",
       "  </tbody>\n",
       "</table>\n",
       "<p>123 rows × 9 columns</p>\n",
       "</div>"
      ],
      "text/plain": [
       "platform                                     3DS    PC   PS3   PS4   PSV  Wii  \\\n",
       "name                                                                            \n",
       "Adventure Time: Finn & Jake Investigations  0.09   NaN  0.08  0.10   NaN  NaN   \n",
       "Aegis of Earth: Protonovus Assault           NaN   NaN  0.02  0.02  0.03  NaN   \n",
       "Arslan: The Warriors of Legend               NaN   NaN  0.05  0.09   NaN  NaN   \n",
       "Assassin's Creed Chronicles                  NaN   NaN   NaN  0.08  0.07  NaN   \n",
       "Assassin's Creed Syndicate                   NaN  0.22   NaN  3.39   NaN  NaN   \n",
       "...                                          ...   ...   ...   ...   ...  ...   \n",
       "WWE 2K17                                     NaN   NaN  0.14  0.60   NaN  NaN   \n",
       "Wasteland 2                                  NaN  0.10   NaN  0.12   NaN  NaN   \n",
       "Wolfenstein: The Old Blood                   NaN  0.08   NaN  0.43   NaN  NaN   \n",
       "XCOM 2                                       NaN  0.23   NaN  0.14   NaN  NaN   \n",
       "Yoru no Nai Kuni                             NaN   NaN  0.05  0.08  0.08  NaN   \n",
       "\n",
       "platform                                    WiiU  X360  XOne  \n",
       "name                                                          \n",
       "Adventure Time: Finn & Jake Investigations  0.05  0.09  0.05  \n",
       "Aegis of Earth: Protonovus Assault           NaN   NaN   NaN  \n",
       "Arslan: The Warriors of Legend               NaN   NaN  0.01  \n",
       "Assassin's Creed Chronicles                  NaN   NaN  0.01  \n",
       "Assassin's Creed Syndicate                   NaN   NaN  1.29  \n",
       "...                                          ...   ...   ...  \n",
       "WWE 2K17                                     NaN  0.10  0.26  \n",
       "Wasteland 2                                  NaN   NaN  0.06  \n",
       "Wolfenstein: The Old Blood                   NaN   NaN  0.15  \n",
       "XCOM 2                                       NaN   NaN  0.04  \n",
       "Yoru no Nai Kuni                             NaN   NaN   NaN  \n",
       "\n",
       "[123 rows x 9 columns]"
      ]
     },
     "execution_count": 33,
     "metadata": {},
     "output_type": "execute_result"
    }
   ],
   "source": [
    "multi_platform"
   ]
  },
  {
   "cell_type": "code",
   "execution_count": 34,
   "metadata": {},
   "outputs": [
    {
     "data": {
      "image/png": "[encoded data removed]",
      "text/plain": [
       "<Figure size 648x648 with 1 Axes>"
      ]
     },
     "metadata": {
      "needs_background": "light"
     },
     "output_type": "display_data"
    }
   ],
   "source": [
    "#Graph to show standard deviation of sales accross platforms\n",
    "multi_platform.std(1).hist(bins=50, figsize=(9,9))\n",
    "plt.xlabel('Deviations')\n",
    "plt.ylabel('Density');"
   ]
  },
  {
   "cell_type": "markdown",
   "metadata": {},
   "source": [
    "Histogram shows the standard deviations away from the mean each platform is, most are around 0-1, the platforms have similar sales."
   ]
  },
  {
   "cell_type": "code",
   "execution_count": 35,
   "metadata": {},
   "outputs": [
    {
     "data": {
      "image/png": "[encoded data removed]",
      "text/plain": [
       "<Figure size 648x648 with 1 Axes>"
      ]
     },
     "metadata": {
      "needs_background": "light"
     },
     "output_type": "display_data"
    }
   ],
   "source": [
    "#Boxplot for sales total by genre, log scale\n",
    "df.boxplot(by='genre', column='sales_total', figsize=(9,9))\n",
    "plt.yscale('log')\n",
    "plt.xticks(rotation=45)\n",
    "plt.title('Sales by Genre')\n",
    "plt.xlabel('Genre')\n",
    "plt.ylabel('Log Sales');"
   ]
  },
  {
   "cell_type": "markdown",
   "metadata": {},
   "source": [
    "Shooters have the highest median sales, Puzzle games have the lowest median sales.<br>\n",
    "\n",
    "Simulation games have the largest interquartile range, Puzzle games having the smallest.<br>\n",
    "\n",
    "Action game have the largest number of outliers."
   ]
  },
  {
   "cell_type": "code",
   "execution_count": 36,
   "metadata": {},
   "outputs": [],
   "source": [
    "#New variable for platform by region of sales\n",
    "region_profile_platform=df.groupby('platform')[['eu_sales', 'jp_sales', 'na_sales']].sum()"
   ]
  },
  {
   "cell_type": "code",
   "execution_count": 37,
   "metadata": {},
   "outputs": [
    {
     "name": "stdout",
     "output_type": "stream",
     "text": [
      "eu_sales\n",
      "platform\n",
      "PS4     83.54\n",
      "XOne    28.10\n",
      "PC       9.10\n",
      "3DS      7.39\n",
      "PS3      7.30\n",
      "Name: eu_sales, dtype: float64\n",
      "jp_sales\n",
      "platform\n",
      "3DS     23.55\n",
      "PS4     12.05\n",
      "PSV      8.41\n",
      "PS3      4.97\n",
      "WiiU     4.12\n",
      "Name: jp_sales, dtype: float64\n",
      "na_sales\n",
      "platform\n",
      "PS4     63.86\n",
      "XOne    50.30\n",
      "3DS     10.31\n",
      "WiiU     8.86\n",
      "X360     8.05\n",
      "Name: na_sales, dtype: float64\n"
     ]
    }
   ],
   "source": [
    "#Loop to print largest platform of each region\n",
    "for region in (['eu_sales', 'jp_sales', 'na_sales']):\n",
    "    print(region)\n",
    "    print(region_profile_platform[region].nlargest(5))  "
   ]
  },
  {
   "cell_type": "code",
   "execution_count": 38,
   "metadata": {},
   "outputs": [],
   "source": [
    "#New variable for genre by region\n",
    "region_profile_genre=df.groupby('genre')[['eu_sales','jp_sales', 'na_sales']].sum()"
   ]
  },
  {
   "cell_type": "code",
   "execution_count": 39,
   "metadata": {},
   "outputs": [
    {
     "name": "stdout",
     "output_type": "stream",
     "text": [
      "eu_sales\n",
      "genre\n",
      "Shooter         40.28\n",
      "Action          34.82\n",
      "Sports          27.82\n",
      "Role-Playing    17.21\n",
      "Racing           6.52\n",
      "Name: eu_sales, dtype: float64\n",
      "jp_sales\n",
      "genre\n",
      "Action          23.05\n",
      "Role-Playing    13.41\n",
      "Shooter          3.79\n",
      "Misc             3.19\n",
      "Adventure        2.22\n",
      "Name: jp_sales, dtype: float64\n",
      "na_sales\n",
      "genre\n",
      "Shooter         48.18\n",
      "Action          33.68\n",
      "Sports          26.31\n",
      "Role-Playing    19.82\n",
      "Misc             5.58\n",
      "Name: na_sales, dtype: float64\n"
     ]
    }
   ],
   "source": [
    "#Loop to print largest for each region\n",
    "for region in (['eu_sales', 'jp_sales', 'na_sales']):\n",
    "    print(region)\n",
    "    print(region_profile_genre[region].nlargest(5))"
   ]
  },
  {
   "cell_type": "code",
   "execution_count": 40,
   "metadata": {},
   "outputs": [
    {
     "data": {
      "text/plain": [
       "T       192\n",
       "E       153\n",
       "M       149\n",
       "E10+    101\n",
       "Name: rating, dtype: int64"
      ]
     },
     "execution_count": 40,
     "metadata": {},
     "output_type": "execute_result"
    }
   ],
   "source": [
    "#Check what values are in ['rating']\n",
    "df.rating.value_counts()"
   ]
  },
  {
   "cell_type": "code",
   "execution_count": 41,
   "metadata": {},
   "outputs": [
    {
     "data": {
      "image/png": "[encoded data removed]",
      "text/plain": [
       "<Figure size 432x288 with 1 Axes>"
      ]
     },
     "metadata": {
      "needs_background": "light"
     },
     "output_type": "display_data"
    }
   ],
   "source": [
    "#Plot a bar for sales by rating, sorted for na_sales\n",
    "df.groupby('rating')[['eu_sales', 'jp_sales', 'na_sales']].sum().sort_values(by='na_sales',\n",
    "                                                                             ascending=False).plot(kind='bar');"
   ]
  },
  {
   "cell_type": "code",
   "execution_count": 42,
   "metadata": {},
   "outputs": [
    {
     "data": {
      "image/png": "[encoded data removed]",
      "text/plain": [
       "<Figure size 432x288 with 1 Axes>"
      ]
     },
     "metadata": {
      "needs_background": "light"
     },
     "output_type": "display_data"
    },
    {
     "data": {
      "image/png": "[encoded data removed]",
      "text/plain": [
       "<Figure size 432x288 with 1 Axes>"
      ]
     },
     "metadata": {
      "needs_background": "light"
     },
     "output_type": "display_data"
    },
    {
     "data": {
      "image/png": "[encoded data removed]",
      "text/plain": [
       "<Figure size 432x288 with 1 Axes>"
      ]
     },
     "metadata": {
      "needs_background": "light"
     },
     "output_type": "display_data"
    }
   ],
   "source": [
    "#Loop for above graph, looping region for each\n",
    "for region in (['eu_sales', 'jp_sales', 'na_sales']):    \n",
    "    df.groupby('rating')[['eu_sales', 'jp_sales', 'na_sales']].sum().sort_values(by=region,\n",
    "                                                                             ascending=False).plot(kind='bar', \n",
    "                                                                                                   title=region)\n",
    "\n",
    "    plt.ylabel('Sales')\n",
    "    plt.xlabel('Rating');"
   ]
  },
  {
   "cell_type": "markdown",
   "metadata": {},
   "source": [
    "Europe and North America have the same order of sales by rating, whereas Japan has more T rated sales than M rated sales."
   ]
  },
  {
   "cell_type": "markdown",
   "metadata": {},
   "source": [
    "#### Conclusion\n",
    "\n",
    "Graph for sales per year created.<br>\n",
    "Grouped the dataframe by platform and plotted a graph to show releases by platform per year.<br>\n",
    "Shortened platform list to top 10 sales of all time and plot a graph for these values.<br>\n",
    "Dataframe shortened to only show values from 2014 onwards.<br>\n",
    "Boxplots made for platform and genre sales, log scale used as values are on a wide spread.<br>\n",
    "Scatter plots made for User Score and Critic Score, user score shows very little impact on the overall sales, whereas critic score has a moderate trend.<br>\n",
    "Loop to generate bar charts for each region's sales by rating."
   ]
  },
  {
   "cell_type": "markdown",
   "metadata": {},
   "source": [
    "## Hypothesis'"
   ]
  },
  {
   "cell_type": "code",
   "execution_count": 43,
   "metadata": {},
   "outputs": [],
   "source": [
    "#Update dataframe to not have any na values in user_score, for hypothesis testing\n",
    "df=df[df['user_score'].notna()]"
   ]
  },
  {
   "cell_type": "code",
   "execution_count": 44,
   "metadata": {},
   "outputs": [
    {
     "data": {
      "text/plain": [
       "0"
      ]
     },
     "execution_count": 44,
     "metadata": {},
     "output_type": "execute_result"
    }
   ],
   "source": [
    "df.user_score.isna().sum()"
   ]
  },
  {
   "cell_type": "code",
   "execution_count": 45,
   "metadata": {},
   "outputs": [
    {
     "data": {
      "text/plain": [
       "PS4     190\n",
       "XOne    121\n",
       "PC       84\n",
       "PSV      36\n",
       "PS3      35\n",
       "3DS      33\n",
       "X360     31\n",
       "WiiU     29\n",
       "Name: platform, dtype: int64"
      ]
     },
     "execution_count": 45,
     "metadata": {},
     "output_type": "execute_result"
    }
   ],
   "source": [
    "df.platform.value_counts()"
   ]
  },
  {
   "cell_type": "markdown",
   "metadata": {},
   "source": [
    "#### Hypothesis test for Platform User Score"
   ]
  },
  {
   "cell_type": "code",
   "execution_count": 46,
   "metadata": {},
   "outputs": [
    {
     "data": {
      "text/plain": [
       "LeveneResult(statistic=3.2889939816434848, pvalue=0.07122249094391404)"
      ]
     },
     "execution_count": 46,
     "metadata": {},
     "output_type": "execute_result"
    }
   ],
   "source": [
    "#Levene test for equal variance\n",
    "st.levene(df[df['platform']=='XOne']['user_score'], df[df['platform']=='PC']['user_score'])"
   ]
  },
  {
   "cell_type": "markdown",
   "metadata": {},
   "source": [
    "Alpha 0.05<br>\n",
    "$H_{0}$: Average user score XOne == Average user score PC<br>\n",
    "$H_{1}$: Average user score XOne <> Average user score PC<br>"
   ]
  },
  {
   "cell_type": "markdown",
   "metadata": {},
   "source": [
    "P value > 0.05 so equal_var=True"
   ]
  },
  {
   "cell_type": "code",
   "execution_count": 47,
   "metadata": {},
   "outputs": [
    {
     "data": {
      "text/plain": [
       "Ttest_indResult(statistic=1.088070274037042, pvalue=0.2778542084733835)"
      ]
     },
     "execution_count": 47,
     "metadata": {},
     "output_type": "execute_result"
    }
   ],
   "source": [
    "#T test for platform user_score for Xbox One and PC\n",
    "st.ttest_ind(df[df['platform']=='XOne']['user_score'],\n",
    "             df[df['platform']=='PC']['user_score'], equal_var=True)"
   ]
  },
  {
   "cell_type": "markdown",
   "metadata": {},
   "source": [
    "Alpha 0.05<br>\n",
    "$H_{0}$: Average user score XOne == Average user score PC<br>\n",
    "$H_{1}$: Average user score XOne <> Average user score PC<br>"
   ]
  },
  {
   "cell_type": "markdown",
   "metadata": {},
   "source": [
    "P value is greater than alpha, the null hypothesis cannot be rejected.<br>\n",
    "The average user score for Xbox One and PC are equal."
   ]
  },
  {
   "cell_type": "markdown",
   "metadata": {},
   "source": [
    "#### Hypothesis test for Genre User Score"
   ]
  },
  {
   "cell_type": "code",
   "execution_count": 48,
   "metadata": {},
   "outputs": [
    {
     "data": {
      "text/plain": [
       "LeveneResult(statistic=20.143951562450948, pvalue=1.060035862066395e-05)"
      ]
     },
     "execution_count": 48,
     "metadata": {},
     "output_type": "execute_result"
    }
   ],
   "source": [
    "#Levene test for equal variance\n",
    "st.levene(df[df['genre']=='Action']['user_score'],\n",
    "          df[df['genre']=='Sports']['user_score'])"
   ]
  },
  {
   "cell_type": "markdown",
   "metadata": {},
   "source": [
    "Alpha 0.05<br>\n",
    "$H_{0}$: Average user score Action == Average user score Sports<br>\n",
    "$H_{1}$: Average user score Action <> Average user score Sports<br>"
   ]
  },
  {
   "cell_type": "markdown",
   "metadata": {},
   "source": [
    "P value < 0.05 so equal_var=False"
   ]
  },
  {
   "cell_type": "code",
   "execution_count": 49,
   "metadata": {},
   "outputs": [
    {
     "data": {
      "text/plain": [
       "Ttest_indResult(statistic=6.764121363817531, pvalue=5.97163549920592e-10)"
      ]
     },
     "execution_count": 49,
     "metadata": {},
     "output_type": "execute_result"
    }
   ],
   "source": [
    "#T test for for genre user_score for Action and Sports\n",
    "st.ttest_ind(df[df['genre']=='Action']['user_score'],\n",
    "             df[df['genre']=='Sports']['user_score'], equal_var=False)"
   ]
  },
  {
   "cell_type": "markdown",
   "metadata": {},
   "source": [
    "Alpha 0.05<br>\n",
    "$H_{0}$: Average user score Action == Average user score Sports<br>\n",
    "$H_{1}$: Average user score Action <> Average user score Sports<br>"
   ]
  },
  {
   "cell_type": "markdown",
   "metadata": {},
   "source": [
    "P value is less than alpha, the null hypothesis can be rejected.<br>\n",
    "The average user score for Action and Sports are different"
   ]
  },
  {
   "cell_type": "markdown",
   "metadata": {},
   "source": [
    "# Conclusion"
   ]
  },
  {
   "cell_type": "markdown",
   "metadata": {},
   "source": [
    "To determine if a game will be successful or not, the information used has shown:<br>\n",
    "\n",
    "The platform which the game is released will have insignificant impact on the total sales, as the standard deviation is usually within 0 or 1.<br>\n",
    "However it should be created for current generations.<br>\n",
    "\n",
    "Adventure and Puzzle games generate the least sales, whereas Shooters generate the most.<br>\n",
    "\n",
    "The rating it should be designed for ideally should be M.<br>\n",
    "As a second choice depending if it is for a Japanese audience or European/North American, Japanese should be rated T, European or North American should be M.<br>\n",
    "\n",
    "Critic score should also be the aim to achieve high ratings on, as it has a correlation with the total sales of the game.<br>\n",
    "User score does not need to be considered as the impact is has on sales is insignificant.\n",
    "\n",
    "The Hypothesis test for platform user score shows the user scores to be equal.<br>\n",
    "The Hypothesis test for genre user score shows the user scores to be different.<br>"
   ]
  },
  {
   "cell_type": "code",
   "execution_count": null,
   "metadata": {},
   "outputs": [],
   "source": []
  }
 ],
 "metadata": {
  "kernelspec": {
   "display_name": "Python 3",
   "language": "python",
   "name": "python3"
  },
  "language_info": {
   "codemirror_mode": {
    "name": "ipython",
    "version": 3
   },
   "file_extension": ".py",
   "mimetype": "text/x-python",
   "name": "python",
   "nbconvert_exporter": "python",
   "pygments_lexer": "ipython3",
   "version": "3.8.3"
  },
  "toc": {
   "base_numbering": 1,
   "nav_menu": {},
   "number_sections": true,
   "sideBar": true,
   "skip_h1_title": false,
   "title_cell": "Table of Contents",
   "title_sidebar": "Contents",
   "toc_cell": false,
   "toc_position": {},
   "toc_section_display": true,
   "toc_window_display": true
  }
 },
 "nbformat": 4,
 "nbformat_minor": 4
}
